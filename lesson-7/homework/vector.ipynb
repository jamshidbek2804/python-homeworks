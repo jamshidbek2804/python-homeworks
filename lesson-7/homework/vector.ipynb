{
 "cells": [
  {
   "cell_type": "markdown",
   "metadata": {},
   "source": [
    "Objective: Create a Python class Vector that represents a mathematical vector in an n-dimensional space, capable of handling any number of dimensions."
   ]
  },
  {
   "cell_type": "code",
   "execution_count": 27,
   "metadata": {},
   "outputs": [
    {
     "name": "stdout",
     "output_type": "stream",
     "text": [
      "1-vektor: Vector(1, 2, 3)\n",
      "2-vektor: Vector(4, 5, 6)\n",
      "\n",
      "Vektorlar yig'indisi:\n",
      "Vector(5, 7, 9)\n",
      "\n",
      "Vektorlar ayirmasi:\n",
      "Vector(3, 3, 3)\n",
      "\n",
      "Dot product: 32\n",
      "\n",
      "Scalar multiply: Vector(3, 6, 9)\n",
      "\n",
      "Magnitude:  3.74\n",
      "\n",
      "Normalize: Vector(0.27, 0.53, 0.8)\n"
     ]
    }
   ],
   "source": [
    "class Vector:\n",
    "    \"\"\"Yangi vektor yaratish\"\"\"\n",
    "    def __init__(self, *components):\n",
    "        self.components = components\n",
    "\n",
    "    def _check_dimension_match(self, other):\n",
    "        if len(self.components) != len(other.components):\n",
    "            raise ValueError(\"Vektorlar bir xil o'lchamda bo'lishi kerak\")\n",
    "\n",
    "    def __add__(self, other):\n",
    "        \"\"\"Vektorlarni qo'shish\"\"\"\n",
    "        self._check_dimension_match(other)\n",
    "        summed = [a + b for a, b in zip(self.components, other.components)]\n",
    "        return Vector(*summed)\n",
    "\n",
    "    def __sub__(self, other):\n",
    "        \"\"\"Vektorlarni ayirish\"\"\"\n",
    "        self._check_dimension_match(other)\n",
    "        result = [a - b for a, b in zip(self.components, other.components)]\n",
    "        return Vector(*result)\n",
    "\n",
    "    def dot(self, other):\n",
    "        \"\"\"Dot product metodi\"\"\"\n",
    "        self._check_dimension_match(other)\n",
    "        dot_producted = sum(a * b for a, b in zip(self.components, other.components))\n",
    "        return dot_producted\n",
    "\n",
    "    def scalar_multiply(self, scalar):\n",
    "        \"\"\"Scalar multiplication dasturi\"\"\"\n",
    "        scalar_multiplied = [a * scalar for a in self.components]\n",
    "        return Vector(*scalar_multiplied)\n",
    "\n",
    "    def __abs__(self):\n",
    "        \"\"\"Vektorning magnitudasini hisoblash\"\"\"\n",
    "        magnitude = sum(a**2 for a in self.components)**0.5\n",
    "        return magnitude\n",
    "\n",
    "    def normalize(self):\n",
    "        \"\"\"Vektorni normalizatsiya qilish\"\"\"\n",
    "        for k in self.components:\n",
    "            if k == 0:\n",
    "                raise ValueError(\"nolni songa bo'lib bo'lmaydi\")\n",
    "        normalize = [round(a / magnitude, 2) for a in self.components if a != 0]\n",
    "        return Vector(*normalize)\n",
    "\n",
    "    def __str__(self):\n",
    "        return f\"Vector{self.components}\"\n",
    "\n",
    "v1 = Vector(1, 2, 3)\n",
    "print(f\"1-vektor: {v1}\")\n",
    "v2 = Vector(4, 5, 6)\n",
    "print(f\"2-vektor: {v2}\")\n",
    "print(\"\\nVektorlar yig'indisi:\")\n",
    "v3 = v1 + v2\n",
    "print(v3)\n",
    "print(\"\\nVektorlar ayirmasi:\")\n",
    "v4 = v2 - v1\n",
    "print(v4)\n",
    "dot_product = v1.dot(v2)\n",
    "print(\"\\nDot product:\", dot_product)\n",
    "v5 = v1.scalar_multiply(3)\n",
    "print(\"\\nScalar multiply:\", v5)\n",
    "magnitude = abs(v1)\n",
    "print(f\"\\nMagnitude: {magnitude: .2f}\")\n",
    "normalize = v1.normalize()\n",
    "print(\"\\nNormalize:\", normalize)"
   ]
  },
  {
   "cell_type": "code",
   "execution_count": null,
   "metadata": {},
   "outputs": [],
   "source": []
  }
 ],
 "metadata": {
  "kernelspec": {
   "display_name": "Python 3",
   "language": "python",
   "name": "python3"
  },
  "language_info": {
   "codemirror_mode": {
    "name": "ipython",
    "version": 3
   },
   "file_extension": ".py",
   "mimetype": "text/x-python",
   "name": "python",
   "nbconvert_exporter": "python",
   "pygments_lexer": "ipython3",
   "version": "3.10.10"
  }
 },
 "nbformat": 4,
 "nbformat_minor": 2
}
