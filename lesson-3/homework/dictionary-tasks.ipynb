{
 "cells": [
  {
   "cell_type": "markdown",
   "metadata": {},
   "source": [
    "## Dictionary Tasks"
   ]
  },
  {
   "cell_type": "markdown",
   "metadata": {},
   "source": [
    "1. Get Value: Given a dictionary and a key, retrieve the associated value, considering what to return if the key doesn’t exist."
   ]
  },
  {
   "cell_type": "code",
   "execution_count": 1,
   "metadata": {},
   "outputs": [
    {
     "data": {
      "text/plain": [
       "dict_keys(['name', 'email', 'age'])"
      ]
     },
     "execution_count": 1,
     "metadata": {},
     "output_type": "execute_result"
    }
   ],
   "source": [
    "person = {\"name\": \"John\", \"email\": \"john@gmail.com\", \"age\": 50}\n",
    "person.keys()"
   ]
  },
  {
   "cell_type": "markdown",
   "metadata": {},
   "source": [
    "2. Check Key: Given a dictionary and a key, check if the key is present in the dictionary."
   ]
  },
  {
   "cell_type": "code",
   "execution_count": 2,
   "metadata": {},
   "outputs": [
    {
     "data": {
      "text/plain": [
       "True"
      ]
     },
     "execution_count": 2,
     "metadata": {},
     "output_type": "execute_result"
    }
   ],
   "source": [
    "person = {\"name\": \"John\", \"email\": \"john@gmail.com\", \"age\": 50}\n",
    "'name' in person.keys()"
   ]
  },
  {
   "cell_type": "markdown",
   "metadata": {},
   "source": [
    "3. Count Keys: Determine the number of keys in the dictionary."
   ]
  },
  {
   "cell_type": "code",
   "execution_count": 3,
   "metadata": {},
   "outputs": [
    {
     "data": {
      "text/plain": [
       "3"
      ]
     },
     "execution_count": 3,
     "metadata": {},
     "output_type": "execute_result"
    }
   ],
   "source": [
    "person = {\"name\": \"John\", \"email\": \"john@gmail.com\", \"age\": 50}\n",
    "keys = person.keys()\n",
    "len(keys)"
   ]
  },
  {
   "cell_type": "markdown",
   "metadata": {},
   "source": [
    "4. Get All Keys: Create a list that contains all the keys in the dictionary."
   ]
  },
  {
   "cell_type": "code",
   "execution_count": 5,
   "metadata": {},
   "outputs": [
    {
     "data": {
      "text/plain": [
       "['name', 'email', 'age']"
      ]
     },
     "execution_count": 5,
     "metadata": {},
     "output_type": "execute_result"
    }
   ],
   "source": [
    "person = {\"name\": \"John\", \"email\": \"john@gmail.com\", \"age\": 50}\n",
    "keys = list(person.keys())\n",
    "keys"
   ]
  },
  {
   "cell_type": "markdown",
   "metadata": {},
   "source": [
    "5. Get All Values: Create a list that contains all the values in the dictionary."
   ]
  },
  {
   "cell_type": "code",
   "execution_count": 6,
   "metadata": {},
   "outputs": [
    {
     "data": {
      "text/plain": [
       "dict_values(['John', 'john@gmail.com', 50])"
      ]
     },
     "execution_count": 6,
     "metadata": {},
     "output_type": "execute_result"
    }
   ],
   "source": [
    "person = {\"name\": \"John\", \"email\": \"john@gmail.com\", \"age\": 50}\n",
    "person.values()"
   ]
  },
  {
   "cell_type": "markdown",
   "metadata": {},
   "source": [
    "6. Merge Dictionaries: Given two dictionaries, create a new dictionary that combines both."
   ]
  },
  {
   "cell_type": "code",
   "execution_count": 10,
   "metadata": {},
   "outputs": [
    {
     "data": {
      "text/plain": [
       "{'name': 'John', 'age': 50, 'email': 'john@gmail.com'}"
      ]
     },
     "execution_count": 10,
     "metadata": {},
     "output_type": "execute_result"
    }
   ],
   "source": [
    "dict1 = {\"name\": \"John\", \"age\": 50}\n",
    "dict2 = {\"email\": \"john@gmail.com\"}\n",
    "new_dict = dict1 | dict2\n",
    "new_dict"
   ]
  },
  {
   "cell_type": "markdown",
   "metadata": {},
   "source": [
    "7. Remove Key: Given a dictionary and a key, remove the key if it exists, handling the case if it doesn’t."
   ]
  },
  {
   "cell_type": "code",
   "execution_count": 11,
   "metadata": {},
   "outputs": [
    {
     "data": {
      "text/plain": [
       "{'name': 'John', 'email': 'john@gmail.com'}"
      ]
     },
     "execution_count": 11,
     "metadata": {},
     "output_type": "execute_result"
    }
   ],
   "source": [
    "person = {\"name\": \"John\", \"email\": \"john@gmail.com\", \"age\": 50}\n",
    "person.pop('age')\n",
    "person"
   ]
  },
  {
   "cell_type": "markdown",
   "metadata": {},
   "source": [
    "8. Clear Dictionary: Create a new empty dictionary."
   ]
  },
  {
   "cell_type": "code",
   "execution_count": 12,
   "metadata": {},
   "outputs": [
    {
     "data": {
      "text/plain": [
       "{}"
      ]
     },
     "execution_count": 12,
     "metadata": {},
     "output_type": "execute_result"
    }
   ],
   "source": [
    "person = {\"name\": \"John\", \"email\": \"john@gmail.com\", \"age\": 50}\n",
    "person.clear()\n",
    "person"
   ]
  },
  {
   "cell_type": "markdown",
   "metadata": {},
   "source": [
    "9. Check if Dictionary is Empty: Determine if a dictionary has any elements."
   ]
  },
  {
   "cell_type": "code",
   "execution_count": 13,
   "metadata": {},
   "outputs": [
    {
     "name": "stdout",
     "output_type": "stream",
     "text": [
      "has element\n"
     ]
    }
   ],
   "source": [
    "person = {\"name\": \"John\", \"email\": \"john@gmail.com\", \"age\": 50}\n",
    "if not person:\n",
    "    print('empty')\n",
    "else:\n",
    "    print('dict has element')"
   ]
  },
  {
   "cell_type": "markdown",
   "metadata": {},
   "source": [
    "10. Get Key-Value Pair: Given a dictionary and a key, retrieve the key-value pair if the key exists."
   ]
  },
  {
   "cell_type": "code",
   "execution_count": 16,
   "metadata": {},
   "outputs": [
    {
     "data": {
      "text/plain": [
       "'John'"
      ]
     },
     "execution_count": 16,
     "metadata": {},
     "output_type": "execute_result"
    }
   ],
   "source": [
    "person = {\"name\": \"John\", \"email\": \"john@gmail.com\", \"age\": 50}\n",
    "person['name']"
   ]
  },
  {
   "cell_type": "markdown",
   "metadata": {},
   "source": [
    "11. Update Value: Given a dictionary, update the value for a specified key."
   ]
  },
  {
   "cell_type": "code",
   "execution_count": 17,
   "metadata": {},
   "outputs": [
    {
     "data": {
      "text/plain": [
       "{'name': 'John', 'email': 'john@gmail.com', 'age': '35'}"
      ]
     },
     "execution_count": 17,
     "metadata": {},
     "output_type": "execute_result"
    }
   ],
   "source": [
    "person = {\"name\": \"John\", \"email\": \"john@gmail.com\", \"age\": 50}\n",
    "person['age'] = '35'\n",
    "person"
   ]
  },
  {
   "cell_type": "markdown",
   "metadata": {},
   "source": [
    "12. Count Value Occurrences: Given a dictionary, count how many times a specific value appears across the keys."
   ]
  },
  {
   "cell_type": "code",
   "execution_count": 27,
   "metadata": {},
   "outputs": [
    {
     "data": {
      "text/plain": [
       "2"
      ]
     },
     "execution_count": 27,
     "metadata": {},
     "output_type": "execute_result"
    }
   ],
   "source": [
    "person = {\"name\": \"John\", \"email\": \"john@gmail.com\", \"surname\": \"John\", \"age\": 50}\n",
    "list_values = list(person.values())\n",
    "list_values.count('John')"
   ]
  },
  {
   "cell_type": "markdown",
   "metadata": {},
   "source": [
    "13. Invert Dictionary: Given a dictionary, create a new dictionary that swaps keys and values."
   ]
  },
  {
   "cell_type": "code",
   "execution_count": 30,
   "metadata": {},
   "outputs": [
    {
     "data": {
      "text/plain": [
       "{'John': 'name', 'john@gmail.com': 'email', 50: 'age'}"
      ]
     },
     "execution_count": 30,
     "metadata": {},
     "output_type": "execute_result"
    }
   ],
   "source": [
    "person = {\"name\": \"John\", \"email\": \"john@gmail.com\", \"age\": 50}\n",
    "inverted_dick = {value: key for key, value in person.items()}\n",
    "inverted_dick"
   ]
  },
  {
   "cell_type": "markdown",
   "metadata": {},
   "source": [
    "14. Find Keys with Value: Given a dictionary and a value, create a list of all keys that have that value."
   ]
  },
  {
   "cell_type": "code",
   "execution_count": 4,
   "metadata": {},
   "outputs": [
    {
     "data": {
      "text/plain": [
       "['weight', 'age']"
      ]
     },
     "execution_count": 4,
     "metadata": {},
     "output_type": "execute_result"
    }
   ],
   "source": [
    "person = {\"name\": \"John\", 'weight': 50, \"email\": \"john@gmail.com\", \"age\": 50}\n",
    "value = 50\n",
    "keys = [key for key, val in person.items() if val == 50]\n",
    "keys"
   ]
  },
  {
   "cell_type": "markdown",
   "metadata": {},
   "source": [
    "15. Create a Dictionary from Lists: Given two lists (one of keys and one of values), create a dictionary that pairs them."
   ]
  },
  {
   "cell_type": "code",
   "execution_count": 8,
   "metadata": {},
   "outputs": [
    {
     "data": {
      "text/plain": [
       "{'name': 'John', 'age': 50, 'email': 'john@gmail.com'}"
      ]
     },
     "execution_count": 8,
     "metadata": {},
     "output_type": "execute_result"
    }
   ],
   "source": [
    "keys = ['name', 'age', 'email']\n",
    "values = ['John', 50, 'john@gmail.com']\n",
    "my_dict = dict(zip(keys, values))\n",
    "my_dict"
   ]
  },
  {
   "cell_type": "markdown",
   "metadata": {},
   "source": [
    "16. Check for Nested Dictionaries: Given a dictionary, check if any values are also dictionaries."
   ]
  },
  {
   "cell_type": "code",
   "execution_count": 26,
   "metadata": {},
   "outputs": [
    {
     "name": "stdout",
     "output_type": "stream",
     "text": [
      "True\n"
     ]
    }
   ],
   "source": [
    "person = {\"name\": \"John\", \"email\": \"john@gmail.com\", 'tools': {'web': 'JavaScript', 'programming': 'DevC++'}, \"age\": 50}\n",
    "my_list = list(person.values())\n",
    "for el in my_list:\n",
    "    if type(el) == dict:\n",
    "        print(True)"
   ]
  },
  {
   "cell_type": "markdown",
   "metadata": {},
   "source": [
    "17. Get Nested Value: Given a nested dictionary, retrieve a value from within one of the inner dictionaries."
   ]
  },
  {
   "cell_type": "code",
   "execution_count": 27,
   "metadata": {},
   "outputs": [
    {
     "data": {
      "text/plain": [
       "{'web': 'JavaScript', 'programming': 'DevC++'}"
      ]
     },
     "execution_count": 27,
     "metadata": {},
     "output_type": "execute_result"
    }
   ],
   "source": [
    "person = {\n",
    "    \"name\": \"John\",\n",
    "    \"email\": \"john@gmail.com\",\n",
    "    \"tools\": {\"web\": \"JavaScript\", \"programming\": \"DevC++\"},\n",
    "    \"age\": 50,\n",
    "}\n",
    "person['tools']"
   ]
  },
  {
   "cell_type": "markdown",
   "metadata": {},
   "source": [
    "18. Create Default Dictionary: Create a dictionary that provides a default value for missing keys."
   ]
  },
  {
   "cell_type": "code",
   "execution_count": 28,
   "metadata": {},
   "outputs": [
    {
     "data": {
      "text/plain": [
       "{'web': 'JavaScript', 'programming': 'DevC++'}"
      ]
     },
     "execution_count": 28,
     "metadata": {},
     "output_type": "execute_result"
    }
   ],
   "source": [
    "person = {\n",
    "    \"name\": \"John\",\n",
    "    \"email\": \"john@gmail.com\",\n",
    "    \"tools\": {\"web\": \"JavaScript\", \"programming\": \"DevC++\"},\n",
    "    \"age\": 50,\n",
    "}\n",
    "person.get('tools', 0)"
   ]
  },
  {
   "cell_type": "markdown",
   "metadata": {},
   "source": [
    "19. Count Unique Values: Given a dictionary, determine the number of unique values it contains."
   ]
  },
  {
   "cell_type": "code",
   "execution_count": 29,
   "metadata": {},
   "outputs": [
    {
     "data": {
      "text/plain": [
       "3"
      ]
     },
     "execution_count": 29,
     "metadata": {},
     "output_type": "execute_result"
    }
   ],
   "source": [
    "person = {\n",
    "    \"name\": \"John\",\n",
    "    \"email\": \"john@gmail.com\",\n",
    "    \"age\": 50,\n",
    "    \"email\": \"john@gmail.com\",\n",
    "    \"name\": \"John\",\n",
    "}\n",
    "values = set(person.values())\n",
    "len(values)"
   ]
  },
  {
   "cell_type": "markdown",
   "metadata": {},
   "source": [
    "20. Sort Dictionary by Key: Create a new dictionary sorted by keys."
   ]
  },
  {
   "cell_type": "code",
   "execution_count": 36,
   "metadata": {},
   "outputs": [
    {
     "data": {
      "text/plain": [
       "{1: 'John', 3: 50, 7: 'john@gmail.com'}"
      ]
     },
     "execution_count": 36,
     "metadata": {},
     "output_type": "execute_result"
    }
   ],
   "source": [
    "person = {\n",
    "    1: \"John\",\n",
    "    7: \"john@gmail.com\",\n",
    "    3: 50,\n",
    "}\n",
    "sorted_dict = dict(sorted(person.items()))\n",
    "sorted_dict"
   ]
  },
  {
   "cell_type": "markdown",
   "metadata": {},
   "source": [
    "21. Sort Dictionary by Value: Create a new dictionary sorted by values."
   ]
  },
  {
   "cell_type": "code",
   "execution_count": 41,
   "metadata": {},
   "outputs": [
    {
     "data": {
      "text/plain": [
       "{1: 'a', 3: 'c', 7: 'e'}"
      ]
     },
     "execution_count": 41,
     "metadata": {},
     "output_type": "execute_result"
    }
   ],
   "source": [
    "person = {\n",
    "    1: \"a\",\n",
    "    7: \"e\",\n",
    "    3: 'c',\n",
    "}\n",
    "inverted_dict = dict(zip(person.values(), person.keys()))\n",
    "sorted_dict = dict(sorted(inverted_dict.items()))\n",
    "my_dict = dict(zip(sorted_dict.values(), sorted_dict.keys()))\n",
    "my_dict"
   ]
  },
  {
   "cell_type": "markdown",
   "metadata": {},
   "source": [
    "22. Filter by Value: Given a dictionary, create a new dictionary that only includes items with values that meet a certain condition."
   ]
  },
  {
   "cell_type": "code",
   "execution_count": 42,
   "metadata": {},
   "outputs": [
    {
     "data": {
      "text/plain": [
       "{'a': 45, 'b': 71, 'd': 9}"
      ]
     },
     "execution_count": 42,
     "metadata": {},
     "output_type": "execute_result"
    }
   ],
   "source": [
    "my_dict = {\"a\": 45, \"b\": 71, \"c\": 66, \"d\": 9}\n",
    "filtered_dict = dict(filter(lambda item: item[1] % 2 != 0, my_dict.items()))\n",
    "filtered_dict"
   ]
  },
  {
   "cell_type": "markdown",
   "metadata": {},
   "source": [
    "23. Check for Common Keys: Given two dictionaries, check if they have any keys in common."
   ]
  },
  {
   "cell_type": "code",
   "execution_count": 48,
   "metadata": {},
   "outputs": [
    {
     "name": "stdout",
     "output_type": "stream",
     "text": [
      "True\n",
      "True\n"
     ]
    }
   ],
   "source": [
    "first_dict = {1: \"a\", 2: \"b\", 3: \"c\"}\n",
    "second_dict = {7: \"c\", 1: \"b\", 2: \"k\"}\n",
    "first_list = list(first_dict.keys())\n",
    "second_list = list(second_dict.keys())\n",
    "for k in first_list:\n",
    "    if k in second_list:\n",
    "        print(True)"
   ]
  },
  {
   "cell_type": "markdown",
   "metadata": {},
   "source": [
    "24. Create Dictionary from Tuple: Given a tuple of key-value pairs, create a dictionary from it."
   ]
  },
  {
   "cell_type": "code",
   "execution_count": 50,
   "metadata": {},
   "outputs": [
    {
     "data": {
      "text/plain": [
       "{'a': 1, 'b': 2, 'c': 3}"
      ]
     },
     "execution_count": 50,
     "metadata": {},
     "output_type": "execute_result"
    }
   ],
   "source": [
    "my_tuple = ((\"a\", 1), (\"b\", 2), (\"c\", 3))\n",
    "my_dict = dict(my_tuple)\n",
    "my_dict"
   ]
  },
  {
   "cell_type": "markdown",
   "metadata": {},
   "source": [
    "25. Get the First Key-Value Pair: Retrieve the first key-value pair from a dictionary."
   ]
  },
  {
   "cell_type": "code",
   "execution_count": 56,
   "metadata": {},
   "outputs": [
    {
     "data": {
      "text/plain": [
       "{1: 'a'}"
      ]
     },
     "execution_count": 56,
     "metadata": {},
     "output_type": "execute_result"
    }
   ],
   "source": [
    "my_dict = {1: \"a\", 2: \"b\", 3: \"c\"}\n",
    "key = list(my_dict.keys())[0]\n",
    "value = list(my_dict.values())[0]\n",
    "filtered_dict = {key:value}\n",
    "filtered_dict"
   ]
  }
 ],
 "metadata": {
  "kernelspec": {
   "display_name": "Python 3",
   "language": "python",
   "name": "python3"
  },
  "language_info": {
   "codemirror_mode": {
    "name": "ipython",
    "version": 3
   },
   "file_extension": ".py",
   "mimetype": "text/x-python",
   "name": "python",
   "nbconvert_exporter": "python",
   "pygments_lexer": "ipython3",
   "version": "3.10.10"
  }
 },
 "nbformat": 4,
 "nbformat_minor": 2
}
