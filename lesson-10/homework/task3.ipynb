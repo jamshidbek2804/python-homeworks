{
 "cells": [
  {
   "cell_type": "code",
   "execution_count": null,
   "metadata": {},
   "outputs": [],
   "source": [
    "import json\n",
    "\n",
    "tasks = [\n",
    "    {\"id\": 1, \"task\": \"Do laundry\", \"completed\": False, \"priority\": 3},\n",
    "    {\"id\": 2, \"task\": \"Buy groceries\", \"completed\": True, \"priority\": 2},\n",
    "    {\"id\": 3, \"task\": \"Finish homework\", \"completed\": False, \"priority\": 1},\n",
    "]\n",
    "with open(\"tasks.json\", \"w\") as file:\n",
    "    json.dump(tasks, file, indent=4)"
   ]
  }
 ],
 "metadata": {
  "kernelspec": {
   "display_name": "Python 3",
   "language": "python",
   "name": "python3"
  },
  "language_info": {
   "name": "python",
   "version": "3.10.10"
  }
 },
 "nbformat": 4,
 "nbformat_minor": 2
}
